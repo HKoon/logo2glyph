{
 "cells": [
  {
   "cell_type": "code",
   "execution_count": 6,
   "metadata": {},
   "outputs": [
    {
     "name": "stderr",
     "output_type": "stream",
     "text": [
      "/anaconda2/lib/python2.7/site-packages/ipykernel_launcher.py:73: DeprecationWarning: `imread` is deprecated!\n",
      "`imread` is deprecated in SciPy 1.0.0, and will be removed in 1.2.0.\n",
      "Use ``imageio.imread`` instead.\n",
      "/anaconda2/lib/python2.7/site-packages/ipykernel_launcher.py:74: DeprecationWarning: `imresize` is deprecated!\n",
      "`imresize` is deprecated in SciPy 1.0.0, and will be removed in 1.2.0.\n",
      "Use ``skimage.transform.resize`` instead.\n"
     ]
    },
    {
     "name": "stdout",
     "output_type": "stream",
     "text": [
      "(1, 256, 256, 1) (1, 256, 256, 1)\n",
      "0.4000857\n",
      "(3, 256, 256)\n"
     ]
    },
    {
     "name": "stderr",
     "output_type": "stream",
     "text": [
      "/anaconda2/lib/python2.7/site-packages/ipykernel_launcher.py:66: DeprecationWarning: `imsave` is deprecated!\n",
      "`imsave` is deprecated in SciPy 1.0.0, and will be removed in 1.2.0.\n",
      "Use ``imageio.imwrite`` instead.\n"
     ]
    },
    {
     "data": {
      "image/png": "[encoded data removed]",
      "text/plain": [
       "<Figure size 432x288 with 3 Axes>"
      ]
     },
     "metadata": {
      "needs_background": "light"
     },
     "output_type": "display_data"
    },
    {
     "name": "stdout",
     "output_type": "stream",
     "text": [
      "success!\n"
     ]
    }
   ],
   "source": [
    "#调用图片处理相关库\n",
    "from __future__ import print_function, division\n",
    "import scipy\n",
    "#from glob import glob\n",
    "import numpy as np\n",
    "from PIL import Image\n",
    "import matplotlib.pyplot as plt\n",
    "import os\n",
    "import sys\n",
    "from numpy import random\n",
    "#调用keras库\n",
    "from keras.models import load_model\n",
    "\n",
    "\n",
    "class glyph2glyph():\n",
    "   #初始化\n",
    "    def __init__(self,  img_res=(256, 256)):\n",
    "        self.img_res = img_res\n",
    "        # Input shape\n",
    "        self.img_rows = 256\n",
    "        self.img_cols = 256\n",
    "        self.channels = 1\n",
    "        self.img_shape = (self.img_rows, self.img_cols, self.channels)\n",
    "        \n",
    "        #创建images文件夹\n",
    "        if not os.path.exists(\"images\"):\n",
    "            os.makedirs('images')\n",
    "        \n",
    "        #载入generator模型\n",
    "        self.generator = load_model('model/G_ChefGAN.hdf5')  #‘生成模型地址’\n",
    "        \n",
    "        #载入rebuilder模型\n",
    "        self.rebuilder = load_model('model/Gr_ChefGAN.hdf5')  #‘还原模型地址’\n",
    "        \n",
    "        #载入discriminator模型作为评分器\n",
    "        self.discriminator = load_model('model/D_ChefGAN.hdf5') #‘判别模型地址’\n",
    "        \n",
    "\n",
    "    \n",
    "    #主功能模块\n",
    "    def go_generate (self, logo_path, base_path):\n",
    "        #导入图片\n",
    "        img_logo = self.imread(logo_path)    #作为风格的标志图形\n",
    "        img_base = self.imread(base_path)  #作为基础字形的字母\n",
    "        print(img_logo.shape, img_base.shape)\n",
    "        \n",
    "        \n",
    "        #生成字体\n",
    "        gen_font = self.generator.predict([img_logo,img_base]) #获得一个shape为[1,256,256,1]\n",
    "        \n",
    "        #对生成的字体打分\n",
    "        valid = self.discriminator.predict([img_logo,img_base,gen_font]) #获得的是一个评分矩阵\n",
    "        score = np.mean(np.abs(valid)) #计算评分矩阵的均值作为最终分数\n",
    "        print(score)\n",
    "        \n",
    "        #如果生成字体分数太低就进行循环生成\n",
    "        while score < 0.3:\n",
    "            cyc_logo = gen_font\n",
    "            gen_font = self.generator.predict([cyc_logo,img_base]) #循环生成就是用gen_font作为logo来进行二次生成\n",
    "            valid = self.discriminator.predict([cyc_logo,img_base,gen_font]) #获得的是一个评分矩阵\n",
    "            score = np.mean(np.abs(valid))  #计算评分矩阵的均值作为最终分数\n",
    "            print(score)\n",
    "            \n",
    "        #保存图片\n",
    "        img_font = np.squeeze(gen_font)  #把值为1维度去掉，[1,256,256,1] --> [256,256] \n",
    "        scipy.misc.imsave('images/output.png', img_font)\n",
    "        \n",
    "        #保存对比图 标志+字形+生成字体\n",
    "        self.save_image(img_logo, img_base, gen_font)\n",
    "    \n",
    "        \n",
    "    def imread(self, path):\n",
    "        img = scipy.misc.imread(path, mode='L').astype(np.float)  #以灰度模式L打开图片\n",
    "        img = scipy.misc.imresize(img, self.img_res)  #RESIZE图片到256*256\n",
    "        img = np.expand_dims(img, axis=2) #添加通道维\n",
    "        imgs = []\n",
    "        imgs.append(img) #添加Batch维度\n",
    "        imgs = np.array(imgs)/127.5 - 1. #归一化\n",
    "        return imgs\n",
    "             \n",
    "    \n",
    "        \n",
    "    def save_image(self, img_logo, img_base, gen_font):\n",
    "        r, c = 3, 1 \n",
    "\n",
    "        gen_imgs = np.squeeze(np.concatenate([img_logo, img_base, gen_font]))\n",
    "\n",
    "        # 重整图片到0-1\n",
    "        gen_imgs = 0.5 * gen_imgs + 0.5\n",
    "        print(gen_imgs.shape)\n",
    "\n",
    "        titles = ['Glyph', 'Letter', 'Generated']\n",
    "        fig, axs = plt.subplots(r, c)\n",
    "        cnt = 0\n",
    "        for i in range(r):\n",
    "            #for j in range(c):\n",
    "            axs[i].imshow(gen_imgs[cnt], cmap='gray')\n",
    "            axs[i].set_title(titles[i])\n",
    "            axs[i].axis('off')\n",
    "            cnt += 1\n",
    "        fig.savefig(\"images/gen_img.png\" )\n",
    "        plt.show()\n",
    "        #plt.close()\n",
    "        print(\"success!\")\n",
    "        \n",
    "        \n",
    "if __name__ == '__main__':\n",
    "    gogen = glyph2glyph()\n",
    "    gogen.go_generate(logo_path='./datasets/timg2.jpeg', base_path = './abc/A.png')\n",
    "        "
   ]
  },
  {
   "cell_type": "code",
   "execution_count": null,
   "metadata": {},
   "outputs": [],
   "source": []
  }
 ],
 "metadata": {
  "kernelspec": {
   "display_name": "Python 2",
   "language": "python",
   "name": "python2"
  },
  "language_info": {
   "codemirror_mode": {
    "name": "ipython",
    "version": 2
   },
   "file_extension": ".py",
   "mimetype": "text/x-python",
   "name": "python",
   "nbconvert_exporter": "python",
   "pygments_lexer": "ipython2",
   "version": "2.7.15"
  }
 },
 "nbformat": 4,
 "nbformat_minor": 2
}
